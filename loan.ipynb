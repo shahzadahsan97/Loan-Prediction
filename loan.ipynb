{
 "cells": [
  {
   "cell_type": "code",
   "execution_count": 1,
   "metadata": {},
   "outputs": [
    {
     "data": {
      "text/html": [
       "        <script type=\"text/javascript\">\n",
       "        window.PlotlyConfig = {MathJaxConfig: 'local'};\n",
       "        if (window.MathJax) {MathJax.Hub.Config({SVG: {font: \"STIX-Web\"}});}\n",
       "        if (typeof require !== 'undefined') {\n",
       "        require.undef(\"plotly\");\n",
       "        requirejs.config({\n",
       "            paths: {\n",
       "                'plotly': ['https://cdn.plot.ly/plotly-latest.min']\n",
       "            }\n",
       "        });\n",
       "        require(['plotly'], function(Plotly) {\n",
       "            window._Plotly = Plotly;\n",
       "        });\n",
       "        }\n",
       "        </script>\n",
       "        "
      ]
     },
     "metadata": {},
     "output_type": "display_data"
    }
   ],
   "source": [
    "import numpy as np\n",
    "import pandas as pd\n",
    "import matplotlib.pyplot as plt\n",
    "\n",
    "import seaborn as sns\n",
    "from plotly.offline import init_notebook_mode,iplot\n",
    "init_notebook_mode(connected=True)\n",
    "import plotly.graph_objs as go\n"
   ]
  },
  {
   "cell_type": "code",
   "execution_count": 2,
   "metadata": {},
   "outputs": [],
   "source": [
    "data=pd.read_csv('Loan payments data.csv')"
   ]
  },
  {
   "cell_type": "code",
   "execution_count": 3,
   "metadata": {},
   "outputs": [
    {
     "data": {
      "text/html": [
       "<div>\n",
       "<style scoped>\n",
       "    .dataframe tbody tr th:only-of-type {\n",
       "        vertical-align: middle;\n",
       "    }\n",
       "\n",
       "    .dataframe tbody tr th {\n",
       "        vertical-align: top;\n",
       "    }\n",
       "\n",
       "    .dataframe thead th {\n",
       "        text-align: right;\n",
       "    }\n",
       "</style>\n",
       "<table border=\"1\" class=\"dataframe\">\n",
       "  <thead>\n",
       "    <tr style=\"text-align: right;\">\n",
       "      <th></th>\n",
       "      <th>Loan_ID</th>\n",
       "      <th>loan_status</th>\n",
       "      <th>Principal</th>\n",
       "      <th>terms</th>\n",
       "      <th>effective_date</th>\n",
       "      <th>due_date</th>\n",
       "      <th>paid_off_time</th>\n",
       "      <th>past_due_days</th>\n",
       "      <th>age</th>\n",
       "      <th>education</th>\n",
       "      <th>Gender</th>\n",
       "    </tr>\n",
       "  </thead>\n",
       "  <tbody>\n",
       "    <tr>\n",
       "      <td>0</td>\n",
       "      <td>xqd20166231</td>\n",
       "      <td>PAIDOFF</td>\n",
       "      <td>1000</td>\n",
       "      <td>30</td>\n",
       "      <td>9/8/2016</td>\n",
       "      <td>10/7/2016</td>\n",
       "      <td>9/14/2016 19:31</td>\n",
       "      <td>NaN</td>\n",
       "      <td>45</td>\n",
       "      <td>High School or Below</td>\n",
       "      <td>male</td>\n",
       "    </tr>\n",
       "    <tr>\n",
       "      <td>1</td>\n",
       "      <td>xqd20168902</td>\n",
       "      <td>PAIDOFF</td>\n",
       "      <td>1000</td>\n",
       "      <td>30</td>\n",
       "      <td>9/8/2016</td>\n",
       "      <td>10/7/2016</td>\n",
       "      <td>10/7/2016 9:00</td>\n",
       "      <td>NaN</td>\n",
       "      <td>50</td>\n",
       "      <td>Bechalor</td>\n",
       "      <td>female</td>\n",
       "    </tr>\n",
       "    <tr>\n",
       "      <td>2</td>\n",
       "      <td>xqd20160003</td>\n",
       "      <td>PAIDOFF</td>\n",
       "      <td>1000</td>\n",
       "      <td>30</td>\n",
       "      <td>9/8/2016</td>\n",
       "      <td>10/7/2016</td>\n",
       "      <td>9/25/2016 16:58</td>\n",
       "      <td>NaN</td>\n",
       "      <td>33</td>\n",
       "      <td>Bechalor</td>\n",
       "      <td>female</td>\n",
       "    </tr>\n",
       "    <tr>\n",
       "      <td>3</td>\n",
       "      <td>xqd20160004</td>\n",
       "      <td>PAIDOFF</td>\n",
       "      <td>1000</td>\n",
       "      <td>15</td>\n",
       "      <td>9/8/2016</td>\n",
       "      <td>9/22/2016</td>\n",
       "      <td>9/22/2016 20:00</td>\n",
       "      <td>NaN</td>\n",
       "      <td>27</td>\n",
       "      <td>college</td>\n",
       "      <td>male</td>\n",
       "    </tr>\n",
       "    <tr>\n",
       "      <td>4</td>\n",
       "      <td>xqd20160005</td>\n",
       "      <td>PAIDOFF</td>\n",
       "      <td>1000</td>\n",
       "      <td>30</td>\n",
       "      <td>9/9/2016</td>\n",
       "      <td>10/8/2016</td>\n",
       "      <td>9/23/2016 21:36</td>\n",
       "      <td>NaN</td>\n",
       "      <td>28</td>\n",
       "      <td>college</td>\n",
       "      <td>female</td>\n",
       "    </tr>\n",
       "  </tbody>\n",
       "</table>\n",
       "</div>"
      ],
      "text/plain": [
       "       Loan_ID loan_status  Principal  terms effective_date   due_date  \\\n",
       "0  xqd20166231     PAIDOFF       1000     30       9/8/2016  10/7/2016   \n",
       "1  xqd20168902     PAIDOFF       1000     30       9/8/2016  10/7/2016   \n",
       "2  xqd20160003     PAIDOFF       1000     30       9/8/2016  10/7/2016   \n",
       "3  xqd20160004     PAIDOFF       1000     15       9/8/2016  9/22/2016   \n",
       "4  xqd20160005     PAIDOFF       1000     30       9/9/2016  10/8/2016   \n",
       "\n",
       "     paid_off_time  past_due_days  age             education  Gender  \n",
       "0  9/14/2016 19:31            NaN   45  High School or Below    male  \n",
       "1   10/7/2016 9:00            NaN   50              Bechalor  female  \n",
       "2  9/25/2016 16:58            NaN   33              Bechalor  female  \n",
       "3  9/22/2016 20:00            NaN   27               college    male  \n",
       "4  9/23/2016 21:36            NaN   28               college  female  "
      ]
     },
     "execution_count": 3,
     "metadata": {},
     "output_type": "execute_result"
    }
   ],
   "source": [
    "data.head()"
   ]
  },
  {
   "cell_type": "code",
   "execution_count": 4,
   "metadata": {},
   "outputs": [
    {
     "name": "stdout",
     "output_type": "stream",
     "text": [
      "<class 'pandas.core.frame.DataFrame'>\n",
      "RangeIndex: 500 entries, 0 to 499\n",
      "Data columns (total 11 columns):\n",
      "Loan_ID           500 non-null object\n",
      "loan_status       500 non-null object\n",
      "Principal         500 non-null int64\n",
      "terms             500 non-null int64\n",
      "effective_date    500 non-null object\n",
      "due_date          500 non-null object\n",
      "paid_off_time     400 non-null object\n",
      "past_due_days     200 non-null float64\n",
      "age               500 non-null int64\n",
      "education         500 non-null object\n",
      "Gender            500 non-null object\n",
      "dtypes: float64(1), int64(3), object(7)\n",
      "memory usage: 43.1+ KB\n"
     ]
    }
   ],
   "source": [
    "data.info()"
   ]
  },
  {
   "cell_type": "code",
   "execution_count": 5,
   "metadata": {},
   "outputs": [
    {
     "data": {
      "text/html": [
       "<div>\n",
       "<style scoped>\n",
       "    .dataframe tbody tr th:only-of-type {\n",
       "        vertical-align: middle;\n",
       "    }\n",
       "\n",
       "    .dataframe tbody tr th {\n",
       "        vertical-align: top;\n",
       "    }\n",
       "\n",
       "    .dataframe thead th {\n",
       "        text-align: right;\n",
       "    }\n",
       "</style>\n",
       "<table border=\"1\" class=\"dataframe\">\n",
       "  <thead>\n",
       "    <tr style=\"text-align: right;\">\n",
       "      <th></th>\n",
       "      <th>Principal</th>\n",
       "      <th>terms</th>\n",
       "      <th>past_due_days</th>\n",
       "      <th>age</th>\n",
       "    </tr>\n",
       "  </thead>\n",
       "  <tbody>\n",
       "    <tr>\n",
       "      <td>count</td>\n",
       "      <td>500.000000</td>\n",
       "      <td>500.000000</td>\n",
       "      <td>200.00000</td>\n",
       "      <td>500.000000</td>\n",
       "    </tr>\n",
       "    <tr>\n",
       "      <td>mean</td>\n",
       "      <td>943.200000</td>\n",
       "      <td>22.824000</td>\n",
       "      <td>36.01000</td>\n",
       "      <td>31.116000</td>\n",
       "    </tr>\n",
       "    <tr>\n",
       "      <td>std</td>\n",
       "      <td>115.240274</td>\n",
       "      <td>8.000064</td>\n",
       "      <td>29.38088</td>\n",
       "      <td>6.084784</td>\n",
       "    </tr>\n",
       "    <tr>\n",
       "      <td>min</td>\n",
       "      <td>300.000000</td>\n",
       "      <td>7.000000</td>\n",
       "      <td>1.00000</td>\n",
       "      <td>18.000000</td>\n",
       "    </tr>\n",
       "    <tr>\n",
       "      <td>25%</td>\n",
       "      <td>1000.000000</td>\n",
       "      <td>15.000000</td>\n",
       "      <td>3.00000</td>\n",
       "      <td>27.000000</td>\n",
       "    </tr>\n",
       "    <tr>\n",
       "      <td>50%</td>\n",
       "      <td>1000.000000</td>\n",
       "      <td>30.000000</td>\n",
       "      <td>37.00000</td>\n",
       "      <td>30.000000</td>\n",
       "    </tr>\n",
       "    <tr>\n",
       "      <td>75%</td>\n",
       "      <td>1000.000000</td>\n",
       "      <td>30.000000</td>\n",
       "      <td>60.00000</td>\n",
       "      <td>35.000000</td>\n",
       "    </tr>\n",
       "    <tr>\n",
       "      <td>max</td>\n",
       "      <td>1000.000000</td>\n",
       "      <td>30.000000</td>\n",
       "      <td>76.00000</td>\n",
       "      <td>51.000000</td>\n",
       "    </tr>\n",
       "  </tbody>\n",
       "</table>\n",
       "</div>"
      ],
      "text/plain": [
       "         Principal       terms  past_due_days         age\n",
       "count   500.000000  500.000000      200.00000  500.000000\n",
       "mean    943.200000   22.824000       36.01000   31.116000\n",
       "std     115.240274    8.000064       29.38088    6.084784\n",
       "min     300.000000    7.000000        1.00000   18.000000\n",
       "25%    1000.000000   15.000000        3.00000   27.000000\n",
       "50%    1000.000000   30.000000       37.00000   30.000000\n",
       "75%    1000.000000   30.000000       60.00000   35.000000\n",
       "max    1000.000000   30.000000       76.00000   51.000000"
      ]
     },
     "execution_count": 5,
     "metadata": {},
     "output_type": "execute_result"
    }
   ],
   "source": [
    "data.describe()"
   ]
  },
  {
   "cell_type": "code",
   "execution_count": 6,
   "metadata": {},
   "outputs": [
    {
     "data": {
      "text/plain": [
       "(500, 11)"
      ]
     },
     "execution_count": 6,
     "metadata": {},
     "output_type": "execute_result"
    }
   ],
   "source": [
    "data.shape"
   ]
  },
  {
   "cell_type": "code",
   "execution_count": 7,
   "metadata": {},
   "outputs": [
    {
     "data": {
      "text/plain": [
       "Loan_ID             0\n",
       "loan_status         0\n",
       "Principal           0\n",
       "terms               0\n",
       "effective_date      0\n",
       "due_date            0\n",
       "paid_off_time     100\n",
       "past_due_days     300\n",
       "age                 0\n",
       "education           0\n",
       "Gender              0\n",
       "dtype: int64"
      ]
     },
     "execution_count": 7,
     "metadata": {},
     "output_type": "execute_result"
    }
   ],
   "source": [
    "data.isnull().sum()"
   ]
  },
  {
   "cell_type": "code",
   "execution_count": 9,
   "metadata": {},
   "outputs": [
    {
     "name": "stdout",
     "output_type": "stream",
     "text": [
      "Loan_ID\n",
      "loan_status\n",
      "Principal\n",
      "terms\n",
      "effective_date\n",
      "due_date\n",
      "paid_off_time\n",
      "past_due_days\n",
      "age\n",
      "education\n",
      "Gender\n"
     ]
    }
   ],
   "source": [
    "for col in data.columns:\n",
    "    print(col)"
   ]
  },
  {
   "cell_type": "code",
   "execution_count": 10,
   "metadata": {},
   "outputs": [
    {
     "name": "stdout",
     "output_type": "stream",
     "text": [
      "Loan_Id\n",
      "Loan_Status\n",
      "Principal\n",
      "Terms\n",
      "Effective_Date\n",
      "Due_Date\n",
      "Paid_Of_Time\n",
      "Past_Due_Days\n",
      "Age\n",
      "Education\n",
      "Gender\n"
     ]
    }
   ],
   "source": [
    "data=data.rename(columns={'Loan_ID':'Loan_Id','loan_status':'Loan_Status','Principal':'Principal',\n",
    "                          'terms':'Terms','effective_date':'Effective_Date','due_date':'Due_Date',\n",
    "                          'paid_off_time':'Paid_Of_Time','past_due_days':'Past_Due_Days','age':'Age',\n",
    "                          'education':'Education','Gender':'Gender'})\n",
    "for col in data.columns:\n",
    "    print(col)"
   ]
  },
  {
   "cell_type": "code",
   "execution_count": 11,
   "metadata": {},
   "outputs": [
    {
     "name": "stdout",
     "output_type": "stream",
     "text": [
      "0\n"
     ]
    }
   ],
   "source": [
    "print(data.Loan_Id.isnull().sum())"
   ]
  },
  {
   "cell_type": "code",
   "execution_count": 12,
   "metadata": {},
   "outputs": [
    {
     "name": "stdout",
     "output_type": "stream",
     "text": [
      "PAIDOFF               300\n",
      "COLLECTION            100\n",
      "COLLECTION_PAIDOFF    100\n",
      "Name: Loan_Status, dtype: int64\n"
     ]
    }
   ],
   "source": [
    "print(data['Loan_Status'].value_counts(dropna=False))"
   ]
  },
  {
   "cell_type": "code",
   "execution_count": 13,
   "metadata": {},
   "outputs": [
    {
     "name": "stdout",
     "output_type": "stream",
     "text": [
      "0\n"
     ]
    }
   ],
   "source": [
    "print(data.Loan_Status.isnull().sum())"
   ]
  },
  {
   "cell_type": "code",
   "execution_count": 14,
   "metadata": {},
   "outputs": [
    {
     "data": {
      "text/plain": [
       "1000    377\n",
       "800     111\n",
       "300       6\n",
       "500       3\n",
       "900       2\n",
       "700       1\n",
       "Name: Principal, dtype: int64"
      ]
     },
     "execution_count": 14,
     "metadata": {},
     "output_type": "execute_result"
    }
   ],
   "source": [
    "data.Principal.value_counts() "
   ]
  },
  {
   "cell_type": "code",
   "execution_count": 15,
   "metadata": {},
   "outputs": [
    {
     "name": "stdout",
     "output_type": "stream",
     "text": [
      "Paidoff and principal all of them whatever\n",
      "\n",
      "0\n",
      "Loan_Status         Principal\n",
      "COLLECTION          1000          77\n",
      "                    800           23\n",
      "COLLECTION_PAIDOFF  1000          80\n",
      "                    800           19\n",
      "                    500            1\n",
      "PAIDOFF             1000         220\n",
      "                    800           69\n",
      "                    300            6\n",
      "                    500            2\n",
      "                    900            2\n",
      "                    700            1\n",
      "Name: Principal, dtype: int64\n"
     ]
    }
   ],
   "source": [
    "print('Paidoff and principal all of them whatever\\n')   \n",
    "print(data.Principal.isnull().sum())\n",
    "print(data.groupby('Loan_Status')['Principal'].value_counts()) "
   ]
  },
  {
   "cell_type": "code",
   "execution_count": 39,
   "metadata": {},
   "outputs": [
    {
     "name": "stdout",
     "output_type": "stream",
     "text": [
      "Loan_Status\n",
      "COLLECTION             95400\n",
      "COLLECTION_PAIDOFF     95700\n",
      "PAIDOFF               280500\n",
      "Name: Principal, dtype: int64\n"
     ]
    }
   ],
   "source": [
    "print(data.groupby('Loan_Status')['Principal'].sum()) "
   ]
  },
  {
   "cell_type": "code",
   "execution_count": 40,
   "metadata": {},
   "outputs": [
    {
     "name": "stdout",
     "output_type": "stream",
     "text": [
      "Terms is missing value\n",
      "\n",
      "0\n",
      "Terms value unique\n",
      "\n",
      "30    272\n",
      "15    207\n",
      "7      21\n",
      "Name: Terms, dtype: int64\n",
      "Unique Terms Value\n",
      "\n",
      "[30 15  7]\n"
     ]
    }
   ],
   "source": [
    "print('Terms is missing value\\n')\n",
    "print(data.Terms.isnull().sum())\n",
    "print('Terms value unique\\n')\n",
    "print(data.Terms.value_counts())\n",
    "print('Unique Terms Value\\n')\n",
    "print(data.Terms.unique())\n"
   ]
  },
  {
   "cell_type": "code",
   "execution_count": 41,
   "metadata": {},
   "outputs": [
    {
     "name": "stdout",
     "output_type": "stream",
     "text": [
      "Age in Data state\n",
      "\n",
      "Data isnull sum\n",
      "\n",
      "0\n",
      "Data unique age\n",
      "\n",
      "[45 50 33 27 28 35 29 36 26 39 40 32 43 25 34 31 37 24 21 30 22 44 46 38\n",
      " 23 20 47 42 19 51 41 18 49]\n",
      "Data value counts age\n",
      "\n",
      "26    46\n",
      "29    42\n",
      "27    38\n",
      "30    37\n",
      "28    32\n",
      "33    30\n",
      "35    26\n",
      "34    25\n",
      "24    23\n",
      "31    22\n",
      "25    20\n",
      "32    20\n",
      "38    19\n",
      "37    19\n",
      "36    14\n",
      "39    10\n",
      "23    10\n",
      "40     8\n",
      "22     8\n",
      "21     7\n",
      "45     5\n",
      "46     5\n",
      "41     5\n",
      "43     5\n",
      "44     4\n",
      "50     4\n",
      "20     4\n",
      "42     4\n",
      "47     3\n",
      "19     2\n",
      "51     1\n",
      "49     1\n",
      "18     1\n",
      "Name: Age, dtype: int64\n",
      "Age group by Terms nad Principal in every Data\n",
      "\n",
      "Terms  Age\n",
      "7      29     4\n",
      "       35     3\n",
      "       25     2\n",
      "       26     2\n",
      "       27     2\n",
      "             ..\n",
      "30     44     2\n",
      "       18     1\n",
      "       46     1\n",
      "       49     1\n",
      "       50     1\n",
      "Name: Age, Length: 72, dtype: int64\n",
      "Group sum every Terms and Principal in Data\n",
      "     Terms  Principal\n",
      "Age                  \n",
      "18      30       1000\n",
      "19      60       2000\n",
      "20     105       4000\n",
      "21     195       6800\n",
      "22     172       7300\n",
      "23     202       8000\n",
      "24     525      22200\n",
      "25     404      19400\n",
      "26    1079      44100\n",
      "27     899      36600\n",
      "28     780      30500\n",
      "29     898      39000\n",
      "30     900      36200\n",
      "31     494      21200\n",
      "32     457      19400\n",
      "33     735      27700\n",
      "34     554      24200\n",
      "35     546      23000\n",
      "36     330      13200\n",
      "37     442      17400\n",
      "38     450      18000\n",
      "39     195       9000\n",
      "40     195       7600\n",
      "41     105       4600\n",
      "42      90       3600\n",
      "43     105       4400\n",
      "44      90       3600\n",
      "45     120       5000\n",
      "46      90       4200\n",
      "47      45       2800\n",
      "49      30       1000\n",
      "50      75       3800\n",
      "51      15        800\n"
     ]
    }
   ],
   "source": [
    "print('Age in Data state\\n')\n",
    "print('Data isnull sum\\n')\n",
    "print(data.Age.isnull().sum())\n",
    "print('Data unique age\\n')\n",
    "print(data.Age.unique())\n",
    "print('Data value counts age\\n')\n",
    "print(data.Age.value_counts())\n",
    "print('Age group by Terms nad Principal in every Data\\n')\n",
    "print(data.groupby('Terms')['Age'].value_counts())\n",
    "print('Group sum every Terms and Principal in Data')\n",
    "print(data.groupby('Age')[['Terms','Principal']].sum())"
   ]
  },
  {
   "cell_type": "code",
   "execution_count": 42,
   "metadata": {},
   "outputs": [
    {
     "name": "stdout",
     "output_type": "stream",
     "text": [
      "Education State\n",
      "\n",
      "Education Unique\n",
      "\n",
      "['High School or Below' 'Bechalor' 'college' 'Master or Above']\n",
      "Education isnull \n",
      "\n",
      "0\n",
      "Education value counts\n",
      "\n",
      "college                 220\n",
      "High School or Below    209\n",
      "Bechalor                 67\n",
      "Master or Above           4\n",
      "Name: Education, dtype: int64\n"
     ]
    }
   ],
   "source": [
    "print('Education State\\n')\n",
    "print('Education Unique\\n')\n",
    "print(data.Education.unique())\n",
    "print('Education isnull \\n')\n",
    "print(data.Education.isnull().sum())\n",
    "print('Education value counts\\n')\n",
    "print(data.Education.value_counts())"
   ]
  },
  {
   "cell_type": "code",
   "execution_count": 43,
   "metadata": {},
   "outputs": [
    {
     "name": "stdout",
     "output_type": "stream",
     "text": [
      "Gender State\n",
      "\n",
      "Gender Unique\n",
      "\n",
      "['male' 'female']\n",
      "Gender isnull\n",
      "\n",
      "0\n",
      "Value Counts in Data\n",
      "\n",
      "male      423\n",
      "female     77\n",
      "Name: Gender, dtype: int64\n"
     ]
    }
   ],
   "source": [
    "print('Gender State\\n')\n",
    "print('Gender Unique\\n')\n",
    "print(data.Gender.unique())\n",
    "print('Gender isnull\\n')\n",
    "print(data.Gender.isnull().sum())\n",
    "print('Value Counts in Data\\n')\n",
    "print(data.Gender.value_counts())\n"
   ]
  },
  {
   "cell_type": "markdown",
   "metadata": {},
   "source": [
    "# Data Cleaning"
   ]
  },
  {
   "cell_type": "code",
   "execution_count": 44,
   "metadata": {},
   "outputs": [],
   "source": [
    "data=data.drop('Loan_Id',axis=1)"
   ]
  },
  {
   "cell_type": "code",
   "execution_count": 47,
   "metadata": {},
   "outputs": [
    {
     "name": "stdout",
     "output_type": "stream",
     "text": [
      "Loan_Status         0\n",
      "Principal           0\n",
      "Terms               0\n",
      "Effective_Date      0\n",
      "Due_Date            0\n",
      "Paid_Of_Time      100\n",
      "Past_Due_Days     300\n",
      "Age                 0\n",
      "Education           0\n",
      "Gender              0\n",
      "dtype: int64\n",
      "\n",
      "\n",
      "\n",
      " 500\n"
     ]
    }
   ],
   "source": [
    "print(data.isnull().sum())\n",
    "print('\\n',  len(data))"
   ]
  },
  {
   "cell_type": "code",
   "execution_count": 48,
   "metadata": {},
   "outputs": [],
   "source": [
    "data=data.drop(['Paid_Of_Time','Past_Due_Days'],axis=1)\n",
    "#it is necessary to delete those values because Paid_Of_Time and Past_Due_Days property \n",
    "#values are quite missing."
   ]
  },
  {
   "cell_type": "code",
   "execution_count": 49,
   "metadata": {},
   "outputs": [
    {
     "data": {
      "text/plain": [
       "Loan_Status       0\n",
       "Principal         0\n",
       "Terms             0\n",
       "Effective_Date    0\n",
       "Due_Date          0\n",
       "Age               0\n",
       "Education         0\n",
       "Gender            0\n",
       "dtype: int64"
      ]
     },
     "execution_count": 49,
     "metadata": {},
     "output_type": "execute_result"
    }
   ],
   "source": [
    "data.isnull().sum()"
   ]
  },
  {
   "cell_type": "code",
   "execution_count": null,
   "metadata": {},
   "outputs": [],
   "source": []
  }
 ],
 "metadata": {
  "kernelspec": {
   "display_name": "Python 3",
   "language": "python",
   "name": "python3"
  },
  "language_info": {
   "codemirror_mode": {
    "name": "ipython",
    "version": 3
   },
   "file_extension": ".py",
   "mimetype": "text/x-python",
   "name": "python",
   "nbconvert_exporter": "python",
   "pygments_lexer": "ipython3",
   "version": "3.7.4"
  }
 },
 "nbformat": 4,
 "nbformat_minor": 2
}
